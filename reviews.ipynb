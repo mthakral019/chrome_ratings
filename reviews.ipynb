{
 "cells": [
  {
   "cell_type": "code",
   "execution_count": 2,
   "id": "2c7548ae",
   "metadata": {},
   "outputs": [],
   "source": [
    "import numpy as np\n",
    "import pandas as pd\n",
    "import warnings\n",
    "import nltk\n",
    "from nltk.sentiment.vader import SentimentIntensityAnalyzer\n",
    "\n",
    "warnings.filterwarnings('ignore')"
   ]
  },
  {
   "cell_type": "code",
   "execution_count": 3,
   "id": "55ac3e85",
   "metadata": {},
   "outputs": [
    {
     "data": {
      "text/plain": [
       "'E:\\\\chrome_rating'"
      ]
     },
     "execution_count": 3,
     "metadata": {},
     "output_type": "execute_result"
    }
   ],
   "source": [
    "pwd"
   ]
  },
  {
   "cell_type": "code",
   "execution_count": 4,
   "id": "a460133e",
   "metadata": {},
   "outputs": [],
   "source": [
    "data=pd.read_csv('chrome_reviews.csv')"
   ]
  },
  {
   "cell_type": "code",
   "execution_count": 5,
   "id": "7fd5fbab",
   "metadata": {},
   "outputs": [
    {
     "data": {
      "text/html": [
       "<div>\n",
       "<style scoped>\n",
       "    .dataframe tbody tr th:only-of-type {\n",
       "        vertical-align: middle;\n",
       "    }\n",
       "\n",
       "    .dataframe tbody tr th {\n",
       "        vertical-align: top;\n",
       "    }\n",
       "\n",
       "    .dataframe thead th {\n",
       "        text-align: right;\n",
       "    }\n",
       "</style>\n",
       "<table border=\"1\" class=\"dataframe\">\n",
       "  <thead>\n",
       "    <tr style=\"text-align: right;\">\n",
       "      <th></th>\n",
       "      <th>ID</th>\n",
       "      <th>Review URL</th>\n",
       "      <th>Text</th>\n",
       "      <th>Star</th>\n",
       "      <th>Thumbs Up</th>\n",
       "      <th>User Name</th>\n",
       "      <th>Developer Reply</th>\n",
       "      <th>Version</th>\n",
       "      <th>Review Date</th>\n",
       "      <th>App ID</th>\n",
       "    </tr>\n",
       "  </thead>\n",
       "  <tbody>\n",
       "    <tr>\n",
       "      <th>0</th>\n",
       "      <td>3886</td>\n",
       "      <td>https://play.google.com/store/apps/details?id=...</td>\n",
       "      <td>This is very helpfull aap.</td>\n",
       "      <td>5</td>\n",
       "      <td>0</td>\n",
       "      <td>INDIAN Knowledge</td>\n",
       "      <td>NaN</td>\n",
       "      <td>83.0.4103.106</td>\n",
       "      <td>2020-12-19</td>\n",
       "      <td>com.android.chrome</td>\n",
       "    </tr>\n",
       "    <tr>\n",
       "      <th>1</th>\n",
       "      <td>3887</td>\n",
       "      <td>https://play.google.com/store/apps/details?id=...</td>\n",
       "      <td>Good</td>\n",
       "      <td>3</td>\n",
       "      <td>2</td>\n",
       "      <td>Ijeoma Happiness</td>\n",
       "      <td>NaN</td>\n",
       "      <td>85.0.4183.127</td>\n",
       "      <td>2020-12-19</td>\n",
       "      <td>com.android.chrome</td>\n",
       "    </tr>\n",
       "    <tr>\n",
       "      <th>2</th>\n",
       "      <td>3888</td>\n",
       "      <td>https://play.google.com/store/apps/details?id=...</td>\n",
       "      <td>Not able to update. Neither able to uninstall.</td>\n",
       "      <td>1</td>\n",
       "      <td>0</td>\n",
       "      <td>Priti D BtCFs-29</td>\n",
       "      <td>NaN</td>\n",
       "      <td>85.0.4183.127</td>\n",
       "      <td>2020-12-19</td>\n",
       "      <td>com.android.chrome</td>\n",
       "    </tr>\n",
       "    <tr>\n",
       "      <th>3</th>\n",
       "      <td>3889</td>\n",
       "      <td>https://play.google.com/store/apps/details?id=...</td>\n",
       "      <td>Nice app</td>\n",
       "      <td>4</td>\n",
       "      <td>0</td>\n",
       "      <td>Ajeet Raja</td>\n",
       "      <td>NaN</td>\n",
       "      <td>77.0.3865.116</td>\n",
       "      <td>2020-12-19</td>\n",
       "      <td>com.android.chrome</td>\n",
       "    </tr>\n",
       "    <tr>\n",
       "      <th>4</th>\n",
       "      <td>3890</td>\n",
       "      <td>https://play.google.com/store/apps/details?id=...</td>\n",
       "      <td>Many unwanted ads</td>\n",
       "      <td>1</td>\n",
       "      <td>0</td>\n",
       "      <td>Rams Mp</td>\n",
       "      <td>NaN</td>\n",
       "      <td>87.0.4280.66</td>\n",
       "      <td>2020-12-19</td>\n",
       "      <td>com.android.chrome</td>\n",
       "    </tr>\n",
       "  </tbody>\n",
       "</table>\n",
       "</div>"
      ],
      "text/plain": [
       "     ID                                         Review URL  \\\n",
       "0  3886  https://play.google.com/store/apps/details?id=...   \n",
       "1  3887  https://play.google.com/store/apps/details?id=...   \n",
       "2  3888  https://play.google.com/store/apps/details?id=...   \n",
       "3  3889  https://play.google.com/store/apps/details?id=...   \n",
       "4  3890  https://play.google.com/store/apps/details?id=...   \n",
       "\n",
       "                                             Text  Star  Thumbs Up  \\\n",
       "0                      This is very helpfull aap.     5          0   \n",
       "1                                            Good     3          2   \n",
       "2  Not able to update. Neither able to uninstall.     1          0   \n",
       "3                                        Nice app     4          0   \n",
       "4                               Many unwanted ads     1          0   \n",
       "\n",
       "          User Name Developer Reply        Version Review Date  \\\n",
       "0  INDIAN Knowledge             NaN  83.0.4103.106  2020-12-19   \n",
       "1  Ijeoma Happiness             NaN  85.0.4183.127  2020-12-19   \n",
       "2  Priti D BtCFs-29             NaN  85.0.4183.127  2020-12-19   \n",
       "3        Ajeet Raja             NaN  77.0.3865.116  2020-12-19   \n",
       "4           Rams Mp             NaN   87.0.4280.66  2020-12-19   \n",
       "\n",
       "               App ID  \n",
       "0  com.android.chrome  \n",
       "1  com.android.chrome  \n",
       "2  com.android.chrome  \n",
       "3  com.android.chrome  \n",
       "4  com.android.chrome  "
      ]
     },
     "execution_count": 5,
     "metadata": {},
     "output_type": "execute_result"
    }
   ],
   "source": [
    "data.head(5)"
   ]
  },
  {
   "cell_type": "code",
   "execution_count": 22,
   "id": "844f08f8",
   "metadata": {},
   "outputs": [
    {
     "data": {
      "text/plain": [
       "Index(['ID', 'Review URL', 'Text', 'Star', 'Thumbs Up', 'User Name',\n",
       "       'Developer Reply', 'Version', 'Review Date', 'App ID'],\n",
       "      dtype='object')"
      ]
     },
     "execution_count": 22,
     "metadata": {},
     "output_type": "execute_result"
    }
   ],
   "source": [
    "data.columns"
   ]
  },
  {
   "cell_type": "code",
   "execution_count": 39,
   "id": "a8df624e",
   "metadata": {},
   "outputs": [
    {
     "name": "stdout",
     "output_type": "stream",
     "text": [
      "<class 'pandas.core.frame.DataFrame'>\n",
      "RangeIndex: 7204 entries, 0 to 7203\n",
      "Data columns (total 10 columns):\n",
      " #   Column           Non-Null Count  Dtype \n",
      "---  ------           --------------  ----- \n",
      " 0   ID               7204 non-null   int64 \n",
      " 1   Review URL       7204 non-null   object\n",
      " 2   Text             7203 non-null   object\n",
      " 3   Star             7204 non-null   int64 \n",
      " 4   Thumbs Up        7204 non-null   int64 \n",
      " 5   User Name        7204 non-null   object\n",
      " 6   Developer Reply  95 non-null     object\n",
      " 7   Version          7119 non-null   object\n",
      " 8   Review Date      7204 non-null   object\n",
      " 9   App ID           7204 non-null   object\n",
      "dtypes: int64(3), object(7)\n",
      "memory usage: 562.9+ KB\n"
     ]
    }
   ],
   "source": [
    "data.info()"
   ]
  },
  {
   "cell_type": "code",
   "execution_count": 40,
   "id": "549b1deb",
   "metadata": {},
   "outputs": [],
   "source": [
    "df=data[['Text','Star']]"
   ]
  },
  {
   "cell_type": "code",
   "execution_count": 41,
   "id": "b6ef506a",
   "metadata": {},
   "outputs": [
    {
     "name": "stdout",
     "output_type": "stream",
     "text": [
      "<class 'pandas.core.frame.DataFrame'>\n",
      "RangeIndex: 7204 entries, 0 to 7203\n",
      "Data columns (total 2 columns):\n",
      " #   Column  Non-Null Count  Dtype \n",
      "---  ------  --------------  ----- \n",
      " 0   Text    7203 non-null   object\n",
      " 1   Star    7204 non-null   int64 \n",
      "dtypes: int64(1), object(1)\n",
      "memory usage: 112.7+ KB\n"
     ]
    }
   ],
   "source": [
    "df.info()"
   ]
  },
  {
   "cell_type": "code",
   "execution_count": 42,
   "id": "91e14d22",
   "metadata": {},
   "outputs": [],
   "source": [
    "df['is_rating_bad']=df['Star'].apply(lambda x: 1 if x<3 else 0)"
   ]
  },
  {
   "cell_type": "code",
   "execution_count": 43,
   "id": "441ce9f9",
   "metadata": {},
   "outputs": [
    {
     "data": {
      "text/plain": [
       "Text             1\n",
       "Star             0\n",
       "is_rating_bad    0\n",
       "dtype: int64"
      ]
     },
     "execution_count": 43,
     "metadata": {},
     "output_type": "execute_result"
    }
   ],
   "source": [
    "df.isnull().sum()"
   ]
  },
  {
   "cell_type": "code",
   "execution_count": 10,
   "id": "04b5026b",
   "metadata": {},
   "outputs": [],
   "source": [
    "df.dropna(inplace=True)"
   ]
  },
  {
   "cell_type": "code",
   "execution_count": 11,
   "id": "fa751bdc",
   "metadata": {},
   "outputs": [],
   "source": [
    "sid=SentimentIntensityAnalyzer()"
   ]
  },
  {
   "cell_type": "code",
   "execution_count": 13,
   "id": "fdd46a69",
   "metadata": {},
   "outputs": [],
   "source": [
    "df['score']=df['Text'].apply(lambda review: sid.polarity_scores(review))"
   ]
  },
  {
   "cell_type": "code",
   "execution_count": 14,
   "id": "0b5b6502",
   "metadata": {},
   "outputs": [
    {
     "data": {
      "text/html": [
       "<div>\n",
       "<style scoped>\n",
       "    .dataframe tbody tr th:only-of-type {\n",
       "        vertical-align: middle;\n",
       "    }\n",
       "\n",
       "    .dataframe tbody tr th {\n",
       "        vertical-align: top;\n",
       "    }\n",
       "\n",
       "    .dataframe thead th {\n",
       "        text-align: right;\n",
       "    }\n",
       "</style>\n",
       "<table border=\"1\" class=\"dataframe\">\n",
       "  <thead>\n",
       "    <tr style=\"text-align: right;\">\n",
       "      <th></th>\n",
       "      <th>Text</th>\n",
       "      <th>Star</th>\n",
       "      <th>is_rating_bad</th>\n",
       "      <th>score</th>\n",
       "    </tr>\n",
       "  </thead>\n",
       "  <tbody>\n",
       "    <tr>\n",
       "      <th>0</th>\n",
       "      <td>This is very helpfull aap.</td>\n",
       "      <td>5</td>\n",
       "      <td>0</td>\n",
       "      <td>{'neg': 0.0, 'neu': 1.0, 'pos': 0.0, 'compound...</td>\n",
       "    </tr>\n",
       "    <tr>\n",
       "      <th>1</th>\n",
       "      <td>Good</td>\n",
       "      <td>3</td>\n",
       "      <td>0</td>\n",
       "      <td>{'neg': 0.0, 'neu': 0.0, 'pos': 1.0, 'compound...</td>\n",
       "    </tr>\n",
       "    <tr>\n",
       "      <th>2</th>\n",
       "      <td>Not able to update. Neither able to uninstall.</td>\n",
       "      <td>1</td>\n",
       "      <td>1</td>\n",
       "      <td>{'neg': 0.0, 'neu': 1.0, 'pos': 0.0, 'compound...</td>\n",
       "    </tr>\n",
       "    <tr>\n",
       "      <th>3</th>\n",
       "      <td>Nice app</td>\n",
       "      <td>4</td>\n",
       "      <td>0</td>\n",
       "      <td>{'neg': 0.0, 'neu': 0.263, 'pos': 0.737, 'comp...</td>\n",
       "    </tr>\n",
       "    <tr>\n",
       "      <th>4</th>\n",
       "      <td>Many unwanted ads</td>\n",
       "      <td>1</td>\n",
       "      <td>1</td>\n",
       "      <td>{'neg': 0.487, 'neu': 0.513, 'pos': 0.0, 'comp...</td>\n",
       "    </tr>\n",
       "  </tbody>\n",
       "</table>\n",
       "</div>"
      ],
      "text/plain": [
       "                                             Text  Star  is_rating_bad  \\\n",
       "0                      This is very helpfull aap.     5              0   \n",
       "1                                            Good     3              0   \n",
       "2  Not able to update. Neither able to uninstall.     1              1   \n",
       "3                                        Nice app     4              0   \n",
       "4                               Many unwanted ads     1              1   \n",
       "\n",
       "                                               score  \n",
       "0  {'neg': 0.0, 'neu': 1.0, 'pos': 0.0, 'compound...  \n",
       "1  {'neg': 0.0, 'neu': 0.0, 'pos': 1.0, 'compound...  \n",
       "2  {'neg': 0.0, 'neu': 1.0, 'pos': 0.0, 'compound...  \n",
       "3  {'neg': 0.0, 'neu': 0.263, 'pos': 0.737, 'comp...  \n",
       "4  {'neg': 0.487, 'neu': 0.513, 'pos': 0.0, 'comp...  "
      ]
     },
     "execution_count": 14,
     "metadata": {},
     "output_type": "execute_result"
    }
   ],
   "source": [
    "df.head(5)"
   ]
  },
  {
   "cell_type": "code",
   "execution_count": 15,
   "id": "d81ec082",
   "metadata": {},
   "outputs": [],
   "source": [
    "df['positive']=df['score'].apply(lambda score_dict:score_dict['pos'])\n",
    "df['negative']=df['score'].apply(lambda score_dict:score_dict['neg'])\n",
    "df['neutral']=df['score'].apply(lambda score_dict:score_dict['neu'])\n",
    "df['compound']=df['score'].apply(lambda score_dict:score_dict['compound'])"
   ]
  },
  {
   "cell_type": "code",
   "execution_count": 16,
   "id": "b3355b77",
   "metadata": {},
   "outputs": [],
   "source": [
    "df['bad_pred']=df['compound'].apply(lambda x: 0 if x>=0 else 1)"
   ]
  },
  {
   "cell_type": "code",
   "execution_count": 24,
   "id": "12ffb29a",
   "metadata": {},
   "outputs": [],
   "source": [
    "index_list=df[(df['bad_pred']==0) & (df['is_rating_bad']==1)&(df['neutral']<0.5)].index"
   ]
  },
  {
   "cell_type": "code",
   "execution_count": 27,
   "id": "42025230",
   "metadata": {},
   "outputs": [
    {
     "data": {
      "text/plain": [
       "Int64Index([  42,   56,  101,  158,  178,  277,  291,  310,  312,  315,\n",
       "            ...\n",
       "            6816, 6839, 6849, 6883, 6944, 7041, 7042, 7047, 7151, 7195],\n",
       "           dtype='int64', length=167)"
      ]
     },
     "execution_count": 27,
     "metadata": {},
     "output_type": "execute_result"
    }
   ],
   "source": [
    "index_list"
   ]
  },
  {
   "cell_type": "code",
   "execution_count": null,
   "id": "fc30e3d7",
   "metadata": {},
   "outputs": [],
   "source": []
  },
  {
   "cell_type": "code",
   "execution_count": 34,
   "id": "3acdf5e8",
   "metadata": {},
   "outputs": [],
   "source": [
    "new_data=pd.DataFrame([],columns=data.columns)\n",
    "enteries=[]\n",
    "for i in index_list:\n",
    "    entry=data.iloc[data.index==i]\n",
    "    enteries.append(entry)"
   ]
  },
  {
   "cell_type": "code",
   "execution_count": 38,
   "id": "990ab24e",
   "metadata": {},
   "outputs": [
    {
     "data": {
      "text/html": [
       "<div>\n",
       "<style scoped>\n",
       "    .dataframe tbody tr th:only-of-type {\n",
       "        vertical-align: middle;\n",
       "    }\n",
       "\n",
       "    .dataframe tbody tr th {\n",
       "        vertical-align: top;\n",
       "    }\n",
       "\n",
       "    .dataframe thead th {\n",
       "        text-align: right;\n",
       "    }\n",
       "</style>\n",
       "<table border=\"1\" class=\"dataframe\">\n",
       "  <thead>\n",
       "    <tr style=\"text-align: right;\">\n",
       "      <th></th>\n",
       "      <th>ID</th>\n",
       "      <th>Review URL</th>\n",
       "      <th>Text</th>\n",
       "      <th>Star</th>\n",
       "      <th>Thumbs Up</th>\n",
       "      <th>User Name</th>\n",
       "      <th>Developer Reply</th>\n",
       "      <th>Version</th>\n",
       "      <th>Review Date</th>\n",
       "      <th>App ID</th>\n",
       "    </tr>\n",
       "  </thead>\n",
       "  <tbody>\n",
       "    <tr>\n",
       "      <th>0</th>\n",
       "      <td>3928</td>\n",
       "      <td>https://play.google.com/store/apps/details?id=...</td>\n",
       "      <td>Okk kind but bad then brave</td>\n",
       "      <td>1</td>\n",
       "      <td>0</td>\n",
       "      <td>shradha baradiya</td>\n",
       "      <td>NaN</td>\n",
       "      <td>87.0.4280.101</td>\n",
       "      <td>2020-12-19</td>\n",
       "      <td>com.android.chrome</td>\n",
       "    </tr>\n",
       "    <tr>\n",
       "      <th>1</th>\n",
       "      <td>3942</td>\n",
       "      <td>https://play.google.com/store/apps/details?id=...</td>\n",
       "      <td>👎</td>\n",
       "      <td>1</td>\n",
       "      <td>0</td>\n",
       "      <td>Michael Kuhn</td>\n",
       "      <td>NaN</td>\n",
       "      <td>81.0.4044.111</td>\n",
       "      <td>2020-12-19</td>\n",
       "      <td>com.android.chrome</td>\n",
       "    </tr>\n",
       "    <tr>\n",
       "      <th>2</th>\n",
       "      <td>4113</td>\n",
       "      <td>https://play.google.com/store/apps/details?id=...</td>\n",
       "      <td>Good</td>\n",
       "      <td>1</td>\n",
       "      <td>0</td>\n",
       "      <td>Sohail Soomro</td>\n",
       "      <td>NaN</td>\n",
       "      <td>74.0.3729.136</td>\n",
       "      <td>2020-12-21</td>\n",
       "      <td>com.android.chrome</td>\n",
       "    </tr>\n",
       "    <tr>\n",
       "      <th>3</th>\n",
       "      <td>4143</td>\n",
       "      <td>https://play.google.com/store/apps/details?id=...</td>\n",
       "      <td>Good</td>\n",
       "      <td>1</td>\n",
       "      <td>0</td>\n",
       "      <td>Md Rubel khan</td>\n",
       "      <td>NaN</td>\n",
       "      <td>NaN</td>\n",
       "      <td>2020-12-21</td>\n",
       "      <td>com.android.chrome</td>\n",
       "    </tr>\n",
       "    <tr>\n",
       "      <th>4</th>\n",
       "      <td>4164</td>\n",
       "      <td>https://play.google.com/store/apps/details?id=...</td>\n",
       "      <td>Help</td>\n",
       "      <td>2</td>\n",
       "      <td>0</td>\n",
       "      <td>George &amp; Jodie Wood</td>\n",
       "      <td>NaN</td>\n",
       "      <td>83.0.4103.96</td>\n",
       "      <td>2020-12-21</td>\n",
       "      <td>com.android.chrome</td>\n",
       "    </tr>\n",
       "    <tr>\n",
       "      <th>...</th>\n",
       "      <td>...</td>\n",
       "      <td>...</td>\n",
       "      <td>...</td>\n",
       "      <td>...</td>\n",
       "      <td>...</td>\n",
       "      <td>...</td>\n",
       "      <td>...</td>\n",
       "      <td>...</td>\n",
       "      <td>...</td>\n",
       "      <td>...</td>\n",
       "    </tr>\n",
       "    <tr>\n",
       "      <th>162</th>\n",
       "      <td>659655</td>\n",
       "      <td>https://play.google.com/store/apps/details?id=...</td>\n",
       "      <td>Good</td>\n",
       "      <td>1</td>\n",
       "      <td>0</td>\n",
       "      <td>Seanmichael Cabanilla</td>\n",
       "      <td>NaN</td>\n",
       "      <td>81.0.4044.138</td>\n",
       "      <td>2021-03-04</td>\n",
       "      <td>com.android.chrome</td>\n",
       "    </tr>\n",
       "    <tr>\n",
       "      <th>163</th>\n",
       "      <td>659656</td>\n",
       "      <td>https://play.google.com/store/apps/details?id=...</td>\n",
       "      <td>Good app</td>\n",
       "      <td>1</td>\n",
       "      <td>0</td>\n",
       "      <td>Faith Mulae</td>\n",
       "      <td>NaN</td>\n",
       "      <td>62.0.3202.84</td>\n",
       "      <td>2021-03-04</td>\n",
       "      <td>com.android.chrome</td>\n",
       "    </tr>\n",
       "    <tr>\n",
       "      <th>164</th>\n",
       "      <td>659661</td>\n",
       "      <td>https://play.google.com/store/apps/details?id=...</td>\n",
       "      <td>Its good</td>\n",
       "      <td>1</td>\n",
       "      <td>0</td>\n",
       "      <td>Holy Purpose</td>\n",
       "      <td>NaN</td>\n",
       "      <td>42.0.2311.111</td>\n",
       "      <td>2021-03-04</td>\n",
       "      <td>com.android.chrome</td>\n",
       "    </tr>\n",
       "    <tr>\n",
       "      <th>165</th>\n",
       "      <td>684939</td>\n",
       "      <td>https://play.google.com/store/apps/details?id=...</td>\n",
       "      <td>No good its not updated</td>\n",
       "      <td>1</td>\n",
       "      <td>0</td>\n",
       "      <td>Aditya gamer</td>\n",
       "      <td>NaN</td>\n",
       "      <td>87.0.4280.86</td>\n",
       "      <td>2021-03-05</td>\n",
       "      <td>com.android.chrome</td>\n",
       "    </tr>\n",
       "    <tr>\n",
       "      <th>166</th>\n",
       "      <td>684983</td>\n",
       "      <td>https://play.google.com/store/apps/details?id=...</td>\n",
       "      <td>Chrome is good, I trust this update will make ...</td>\n",
       "      <td>1</td>\n",
       "      <td>0</td>\n",
       "      <td>Harry W Kendall</td>\n",
       "      <td>NaN</td>\n",
       "      <td>88.0.4324.181</td>\n",
       "      <td>2021-03-05</td>\n",
       "      <td>com.android.chrome</td>\n",
       "    </tr>\n",
       "  </tbody>\n",
       "</table>\n",
       "<p>167 rows × 10 columns</p>\n",
       "</div>"
      ],
      "text/plain": [
       "         ID                                         Review URL  \\\n",
       "0      3928  https://play.google.com/store/apps/details?id=...   \n",
       "1      3942  https://play.google.com/store/apps/details?id=...   \n",
       "2      4113  https://play.google.com/store/apps/details?id=...   \n",
       "3      4143  https://play.google.com/store/apps/details?id=...   \n",
       "4      4164  https://play.google.com/store/apps/details?id=...   \n",
       "..      ...                                                ...   \n",
       "162  659655  https://play.google.com/store/apps/details?id=...   \n",
       "163  659656  https://play.google.com/store/apps/details?id=...   \n",
       "164  659661  https://play.google.com/store/apps/details?id=...   \n",
       "165  684939  https://play.google.com/store/apps/details?id=...   \n",
       "166  684983  https://play.google.com/store/apps/details?id=...   \n",
       "\n",
       "                                                  Text  Star  Thumbs Up  \\\n",
       "0                          Okk kind but bad then brave     1          0   \n",
       "1                                                    👎     1          0   \n",
       "2                                                 Good     1          0   \n",
       "3                                                 Good     1          0   \n",
       "4                                                 Help     2          0   \n",
       "..                                                 ...   ...        ...   \n",
       "162                                               Good     1          0   \n",
       "163                                           Good app     1          0   \n",
       "164                                           Its good     1          0   \n",
       "165                            No good its not updated     1          0   \n",
       "166  Chrome is good, I trust this update will make ...     1          0   \n",
       "\n",
       "                 User Name Developer Reply        Version Review Date  \\\n",
       "0         shradha baradiya             NaN  87.0.4280.101  2020-12-19   \n",
       "1             Michael Kuhn             NaN  81.0.4044.111  2020-12-19   \n",
       "2            Sohail Soomro             NaN  74.0.3729.136  2020-12-21   \n",
       "3            Md Rubel khan             NaN            NaN  2020-12-21   \n",
       "4      George & Jodie Wood             NaN   83.0.4103.96  2020-12-21   \n",
       "..                     ...             ...            ...         ...   \n",
       "162  Seanmichael Cabanilla             NaN  81.0.4044.138  2021-03-04   \n",
       "163            Faith Mulae             NaN   62.0.3202.84  2021-03-04   \n",
       "164           Holy Purpose             NaN  42.0.2311.111  2021-03-04   \n",
       "165           Aditya gamer             NaN   87.0.4280.86  2021-03-05   \n",
       "166        Harry W Kendall             NaN  88.0.4324.181  2021-03-05   \n",
       "\n",
       "                 App ID  \n",
       "0    com.android.chrome  \n",
       "1    com.android.chrome  \n",
       "2    com.android.chrome  \n",
       "3    com.android.chrome  \n",
       "4    com.android.chrome  \n",
       "..                  ...  \n",
       "162  com.android.chrome  \n",
       "163  com.android.chrome  \n",
       "164  com.android.chrome  \n",
       "165  com.android.chrome  \n",
       "166  com.android.chrome  \n",
       "\n",
       "[167 rows x 10 columns]"
      ]
     },
     "execution_count": 38,
     "metadata": {},
     "output_type": "execute_result"
    }
   ],
   "source": [
    "new_data=pd.concat(enteries)\n",
    "new_data.reset_index(drop=True)"
   ]
  }
 ],
 "metadata": {
  "kernelspec": {
   "display_name": "Python 3",
   "language": "python",
   "name": "python3"
  },
  "language_info": {
   "codemirror_mode": {
    "name": "ipython",
    "version": 3
   },
   "file_extension": ".py",
   "mimetype": "text/x-python",
   "name": "python",
   "nbconvert_exporter": "python",
   "pygments_lexer": "ipython3",
   "version": "3.8.8"
  }
 },
 "nbformat": 4,
 "nbformat_minor": 5
}
